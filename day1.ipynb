{
 "cells": [
  {
   "cell_type": "code",
   "execution_count": 2,
   "metadata": {},
   "outputs": [],
   "source": [
    "from tensorflow.keras.layers import Dense\n",
    "from tensorflow.keras.models import Sequential\n",
    "import numpy as np"
   ]
  },
  {
   "cell_type": "code",
   "execution_count": 7,
   "metadata": {},
   "outputs": [
    {
     "name": "stdout",
     "output_type": "stream",
     "text": [
      "'data'에 복제합니다...\n",
      "remote: Enumerating objects: 21, done.\u001b[K\n",
      "remote: Counting objects: 100% (21/21), done.\u001b[K\n",
      "remote: Compressing objects: 100% (18/18), done.\u001b[K\n",
      "remote: Total 21 (delta 3), reused 20 (delta 2), pack-reused 0\u001b[K\n",
      "오브젝트를 받는 중: 100% (21/21), 460.95 KiB | 2.02 MiB/s, 완료.\n",
      "델타를 알아내는 중: 100% (3/3), 완료.\n"
     ]
    }
   ],
   "source": [
    "!git clone https://github.com/taehojo/data.git \n",
    "\n",
    "Data_set = np.loadtxt(\"./data/ThoraricSurgery3.csv\", delimiter=\",\")  # 수술 환자 데이터를 불러옵니다.\n",
    "X = Data_set[:,0:16]                                                 # 환자의 진찰 기록을 X로 지정합니다.\n",
    "y = Data_set[:,16]"
   ]
  },
  {
   "cell_type": "code",
   "execution_count": 4,
   "metadata": {},
   "outputs": [
    {
     "name": "stdout",
     "output_type": "stream",
     "text": [
      "Metal device set to: Apple M1\n",
      "\n",
      "systemMemory: 8.00 GB\n",
      "maxCacheSize: 2.67 GB\n",
      "\n"
     ]
    },
    {
     "name": "stderr",
     "output_type": "stream",
     "text": [
      "2022-08-26 15:10:23.355886: I tensorflow/core/common_runtime/pluggable_device/pluggable_device_factory.cc:305] Could not identify NUMA node of platform GPU ID 0, defaulting to 0. Your kernel may not have been built with NUMA support.\n",
      "2022-08-26 15:10:23.356278: I tensorflow/core/common_runtime/pluggable_device/pluggable_device_factory.cc:271] Created TensorFlow device (/job:localhost/replica:0/task:0/device:GPU:0 with 0 MB memory) -> physical PluggableDevice (device: 0, name: METAL, pci bus id: <undefined>)\n"
     ]
    }
   ],
   "source": [
    "model=Sequential()\n",
    "model.add(Dense(30, input_dim=16, activation='relu'))\n",
    "model.add(Dense(1, activation='sigmoid'))"
   ]
  },
  {
   "cell_type": "code",
   "execution_count": 8,
   "metadata": {},
   "outputs": [
    {
     "name": "stdout",
     "output_type": "stream",
     "text": [
      "Epoch 1/5\n"
     ]
    },
    {
     "name": "stderr",
     "output_type": "stream",
     "text": [
      "2022-08-26 15:16:08.389077: W tensorflow/core/platform/profile_utils/cpu_utils.cc:128] Failed to get CPU frequency: 0 Hz\n"
     ]
    },
    {
     "name": "stdout",
     "output_type": "stream",
     "text": [
      " 1/30 [>.............................] - ETA: 10s - loss: 3.8742 - accuracy: 0.6250"
     ]
    },
    {
     "name": "stderr",
     "output_type": "stream",
     "text": [
      "2022-08-26 15:16:08.638583: I tensorflow/core/grappler/optimizers/custom_graph_optimizer_registry.cc:113] Plugin optimizer for device_type GPU is enabled.\n"
     ]
    },
    {
     "name": "stdout",
     "output_type": "stream",
     "text": [
      "30/30 [==============================] - 1s 6ms/step - loss: 1.1312 - accuracy: 0.8511\n",
      "Epoch 2/5\n",
      "30/30 [==============================] - 0s 5ms/step - loss: 0.4674 - accuracy: 0.8362\n",
      "Epoch 3/5\n",
      "30/30 [==============================] - 0s 6ms/step - loss: 0.4297 - accuracy: 0.8511\n",
      "Epoch 4/5\n",
      "30/30 [==============================] - 0s 5ms/step - loss: 0.4292 - accuracy: 0.8511\n",
      "Epoch 5/5\n",
      "30/30 [==============================] - 0s 5ms/step - loss: 0.4258 - accuracy: 0.8511\n"
     ]
    }
   ],
   "source": [
    "model.compile(loss='binary_crossentropy', optimizer='adam', metrics=['accuracy'])\n",
    "history=model.fit(X, y, epochs=5, batch_size=16)"
   ]
  }
 ],
 "metadata": {
  "kernelspec": {
   "display_name": "Python 3.8.13",
   "language": "python",
   "name": "python3"
  },
  "language_info": {
   "codemirror_mode": {
    "name": "ipython",
    "version": 3
   },
   "file_extension": ".py",
   "mimetype": "text/x-python",
   "name": "python",
   "nbconvert_exporter": "python",
   "pygments_lexer": "ipython3",
   "version": "3.8.13"
  },
  "orig_nbformat": 4,
  "vscode": {
   "interpreter": {
    "hash": "11ff08d1f0903f606c4705f197048ad84a12608264008bbe593440f7c2b29916"
   }
  }
 },
 "nbformat": 4,
 "nbformat_minor": 2
}
